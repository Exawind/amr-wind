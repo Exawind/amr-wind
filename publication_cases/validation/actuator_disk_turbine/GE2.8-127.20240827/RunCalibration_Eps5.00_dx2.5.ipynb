{
 "cells": [
  {
   "cell_type": "markdown",
   "metadata": {
    "deletable": true,
    "editable": true
   },
   "source": [
    "# Turbine check-out/calibration notebook\n",
    "\n",
    "Use this notebook to set up a series of runs for turbine calibration and check-out"
   ]
  },
  {
   "cell_type": "code",
   "execution_count": 1,
   "metadata": {
    "deletable": true,
    "editable": true
   },
   "outputs": [],
   "source": [
    "%%capture \n",
    "\n",
    "# Important header information\n",
    "amrwindfedir = '/projects/wind_uq/lcheung/amrwind-frontend'\n",
    "import sys, os\n",
    "sys.path.insert(1, amrwindfedir)\n",
    "\n",
    "# Load the libraries\n",
    "import matplotlib.pyplot    as plt\n",
    "import amrwind_frontend as amrwind\n",
    "import tempfile\n",
    "import shutil\n",
    "# Also ignore warnings\n",
    "import warnings\n",
    "warnings.filterwarnings('ignore')\n",
    "\n",
    "# Make all plots inline \n",
    "%matplotlib inline"
   ]
  },
  {
   "cell_type": "markdown",
   "metadata": {
    "deletable": true,
    "editable": true
   },
   "source": [
    "**Note**: Make sure there is a turbine file which looks like:"
   ]
  },
  {
   "cell_type": "code",
   "execution_count": 2,
   "metadata": {
    "collapsed": false,
    "deletable": true,
    "editable": true,
    "jupyter": {
     "outputs_hidden": false
    }
   },
   "outputs": [
    {
     "name": "stdout",
     "output_type": "stream",
     "text": [
      "turbines:\n",
      "\n",
      "  nrel5mwADM_calib:\n",
      "    turbinetype_name:    \"NREL 2.8-127 ADM Calib\"\n",
      "    turbinetype_comment: \n",
      "    Actuator_type:       TurbineFastDisk\n",
      "    Actuator_openfast_input_file: OpenFAST3p1_NREL2p8-127/NREL-2p8-127.fst\n",
      "    Actuator_rotor_diameter:      127\n",
      "    Actuator_hub_height:          90\n",
      "    Actuator_num_points_blade:    64\n",
      "    Actuator_num_points_tower:    12\n",
      "#    Actuator_epsilon:             [10.0, 10.0, 10.0]\n",
      "#    Actuator_epsilon_tower:       [5.0, 5.0, 5.0]\n",
      "    Actuator_openfast_start_time: 0.0\n",
      "    Actuator_openfast_stop_time:  1000.0\n",
      "    Actuator_nacelle_drag_coeff:  1.0\n",
      "    Actuator_nacelle_area:        8.0\n",
      "    Actuator_output_frequency:    10\n",
      "    turbinetype_filedir: OpenFAST3p1_NREL2p8-127\n",
      "\n",
      "  nrel2.8_127_ADM_bugfix:\n",
      "    turbinetype_name:    \"NREL 2.8-127 ADM bugfix\"\n",
      "    turbinetype_comment: \n",
      "    Actuator_type:       TurbineFastDisk\n",
      "    Actuator_openfast_input_file: OpenFAST3p3_NREL2p8-127.bugfix/NREL-2p8-127.fst\n",
      "    Actuator_rotor_diameter:      127\n",
      "    Actuator_hub_height:          90\n",
      "    Actuator_num_points_blade:    64\n",
      "    Actuator_num_points_tower:    12\n",
      "#    Actuator_epsilon:             [10.0, 10.0, 10.0]\n",
      "#    Actuator_epsilon_tower:       [5.0, 5.0, 5.0]\n",
      "    Actuator_openfast_start_time: 0.0\n",
      "    Actuator_openfast_stop_time:  1000.0\n",
      "    Actuator_nacelle_drag_coeff:  1.0\n",
      "    Actuator_nacelle_area:        8.0\n",
      "    Actuator_output_frequency:    10\n",
      "    turbinetype_filedir: OpenFAST3p3_NREL2p8-127.bugfix\n",
      "\n",
      "  nrel2.8_127_ADM_AWAKEN:\n",
      "    turbinetype_name:    \"NREL 2.8-127 ADM AWAKEN\"\n",
      "    turbinetype_comment: \n",
      "    Actuator_type:       TurbineFastDisk\n",
      "    Actuator_openfast_input_file: OpenFAST_NREL2p8-127_AWAKEN/NREL-2p8-127.fst\n",
      "    Actuator_rotor_diameter:      127\n",
      "    Actuator_hub_height:          90\n",
      "    Actuator_num_points_blade:    64\n",
      "    Actuator_num_points_tower:    12\n",
      "#    Actuator_epsilon:             [10.0, 10.0, 10.0]\n",
      "#    Actuator_epsilon_tower:       [5.0, 5.0, 5.0]\n",
      "    Actuator_openfast_start_time: 0.0\n",
      "    Actuator_openfast_stop_time:  1000.0\n",
      "    Actuator_nacelle_drag_coeff:  1.0\n",
      "    Actuator_nacelle_area:        8.0\n",
      "    Actuator_output_frequency:    10\n",
      "    turbinetype_filedir: OpenFAST_NREL2p8-127_AWAKEN\n",
      "    \n",
      "  Joukowski_GE2.8-127_calib:\n",
      "    turbinetype_name:    \"NREL GE2.8-127 Joukowski Calib\"\n",
      "    turbinetype_comment: \"Dummy layout\"\n",
      "    Actuator_type:                JoukowskyDisk\n",
      "    Actuator_rotor_diameter:      127\n",
      "    Actuator_hub_height:          90     \n",
      "    Actuator_output_frequency:    10                   \n",
      "    # --------------------\n",
      "    Actuator_diameters_to_sample: 2.5     # How far upstream to sample inflow wind\n",
      "    #Actuator_epsilon:             [5.0]   # Epsilon in Z (might need to play with this guy)\n",
      "    Actuator_num_points_r:        40      # number of radial (might need to play with this guy)\n",
      "    Actuator_num_points_t:        5       # number of pts in theta (might need to play with this guy)\n",
      "    #Actuator_vortex_core_size:    24.0    # might need to play with this\n",
      "    # Performance tables come from https://raw.githubusercontent.com/NREL/openfast-turbine-models/master/IEA-scaled/NREL-2.8-127/NREL-2.8-127_openfast.csv\n",
      "    Actuator_wind_speed:          3.0 3.889649963239854 4.684006996752303 5.377830233987229 5.966542092267928 6.44625847394617 6.8138143922059236 7.066784852446481 7.203500851477444 7.22306038896904 7.320786359429763 7.535153078939617 7.864746237154081 8.30739130337076 8.860167873258558 9.519428936578247 10.280824938773394 10.681872976809931 11.13933247768231 12.08928744604103 13.12442240111568 14.237907914913496 15.422397632159566 16.670076738763772 17.972713521001396 19.321713675239476 20.708177009893884 22.122956165519163 23.556716965618207 25.0\n",
      "    Actuator_rpm:                 5.000000000016245 5.000000000016245 5.638983607759451 6.474263713908542 7.183002304786018 7.760523391866565 8.203016709967672 8.507562855934777 8.672152549756454 8.695699891032191 8.813350258732857 9.071422122887496 9.468212823176732 10.001104484991524 10.66658129117735 11.460252678062853 12.03880269963151 12.03880269963151 12.03880269963151 12.03880269963151 12.03880269963151 12.03880269963151 12.03880269963151 12.03880269963151 12.03880269963151 12.03880269963151 12.03880269963151 12.03880269963151 12.03880269963151 12.03880269963151 \n",
      "    Actuator_thrust_coeff:        1.0126639483787587 0.840327937484299 0.7961959353934434 0.7961959353934436 0.7961959353934436 0.7961959353934435 0.7961959353934435 0.7961959353934435 0.7961959353934435 0.7961959353934434 0.7961959353934435 0.7961959353934435 0.7961959353934434 0.7156683533319497 0.6292067505753718 0.5450912104401278 0.46734421176952423 0.4329099112918308 0.3728873584289857 0.28345012213041204 0.2181711924948629 0.16975065018347846 0.13354082513086452 0.10632315304021239 0.08563574092904329 0.06994026801786918 0.057797679316391966 0.04848897545870961 0.041357350192293064 0.03572262020670054 \n",
      "    Actuator_use_tip_correction:  True\n",
      "    Actuator_use_root_correction: True    \n",
      "    Actuator_num_blades:          3\n",
      "\n",
      "\n",
      "  # DummySummit_GE2.8-127:\n",
      "  #   turbinetype_name:    \"Dummy_GE2.8-127\"\n",
      "  #   turbinetype_comment: \"Dummy layout\"\n",
      "  #   Actuator_type:       UniformCtDisk\n",
      "  #   Actuator_rotor_diameter:      127\n",
      "  #   Actuator_hub_height:          90\n",
      "  #   Actuator_thrust_coeff:        0.6\n",
      "  #   Actuator_epsilon:             [5.0]\n",
      "\n"
     ]
    }
   ],
   "source": [
    "with open(amrwindfedir+\"/turbines/nrel28-127_calib.yaml\")as f: print(f.read())"
   ]
  },
  {
   "cell_type": "markdown",
   "metadata": {
    "deletable": true,
    "editable": true
   },
   "source": [
    "Note that both `Actuator_epsilon` and `Actuator_epsilon_tower` are commented out.  We can set those values later."
   ]
  },
  {
   "cell_type": "code",
   "execution_count": 3,
   "metadata": {
    "collapsed": false,
    "deletable": true,
    "editable": true,
    "jupyter": {
     "outputs_hidden": false
    }
   },
   "outputs": [],
   "source": [
    "# Start the amrwind_frontend app \n",
    "case = amrwind.MyApp.init_nogui()"
   ]
  },
  {
   "cell_type": "code",
   "execution_count": 4,
   "metadata": {
    "collapsed": false,
    "deletable": true,
    "editable": true,
    "jupyter": {
     "outputs_hidden": false
    }
   },
   "outputs": [
    {
     "name": "stdout",
     "output_type": "stream",
     "text": [
      "Using temporary directory: /tmp/tempturbine-30zl2k8k\n"
     ]
    }
   ],
   "source": [
    "curdir=os.getcwd()\n",
    "\n",
    "# Create a temporary working directory and switch to it\n",
    "\n",
    "# Uncomment these lines to make your own tempdir\n",
    "## tempdir = 'tempturbinedir'\n",
    "## os.mkdir(tempdir)\n",
    "# Otherwise use a system temporary directory\n",
    "tempdir = tempfile.mkdtemp(prefix='tempturbine-')\n",
    "os.chdir(tempdir)\n",
    "print('Using temporary directory: '+tempdir)"
   ]
  },
  {
   "cell_type": "markdown",
   "metadata": {
    "deletable": true,
    "editable": true
   },
   "source": [
    "## Set up the basic simulation properties"
   ]
  },
  {
   "cell_type": "code",
   "execution_count": 5,
   "metadata": {
    "deletable": true,
    "editable": true
   },
   "outputs": [],
   "source": [
    "rhodensity = 1.225\n",
    "WS         = 11.0                                     # This is temporary, we will vary across a range below\n",
    "eps        = 5.0\n",
    "case.setAMRWindInput('useWSDir', True)\n",
    "case.setAMRWindInput('ABL_windspeed', WS, forcechange=True)\n",
    "case.setAMRWindInput('ABL_winddir', 270,  forcechange=True)\n",
    "case.ABL_calculateWindVector()"
   ]
  },
  {
   "cell_type": "code",
   "execution_count": 6,
   "metadata": {
    "deletable": true,
    "editable": true
   },
   "outputs": [],
   "source": [
    "case.setAMRWindInput('time_control',   ['const dt'])\n",
    "case.setAMRWindInput('time.stop_time', 360)\n",
    "case.setAMRWindInput('time.fixed_dt',  0.1)\n",
    "case.setAMRWindInput('incflo.physics', ['FreeStream', 'Actuator'])"
   ]
  },
  {
   "cell_type": "code",
   "execution_count": 7,
   "metadata": {
    "deletable": true,
    "editable": true
   },
   "outputs": [],
   "source": [
    "case.setAMRWindInput('ConstValue.density.value',  rhodensity)\n",
    "case.setAMRWindInput('incflo.density',            rhodensity)\n",
    "case.setAMRWindInput('incflo.velocity',           [WS, 0.0, 0.0])\n",
    "case.setAMRWindInput('ConstValue.velocity.value', [WS, 0.0, 0.0])\n",
    "case.setAMRWindInput('turbulence.model',          ['Laminar'])"
   ]
  },
  {
   "cell_type": "markdown",
   "metadata": {
    "deletable": true,
    "editable": true
   },
   "source": [
    "## Set the BC's"
   ]
  },
  {
   "cell_type": "code",
   "execution_count": 8,
   "metadata": {
    "deletable": true,
    "editable": true
   },
   "outputs": [],
   "source": [
    "case.setAMRWindInput('is_periodicx', False)\n",
    "case.setAMRWindInput('is_periodicy', True)\n",
    "case.setAMRWindInput('is_periodicz', True)  \n",
    "\n",
    "case.setAMRWindInput('xlo.type', 'mass_inflow')\n",
    "case.setAMRWindInput('xhi.type', 'pressure_outflow')\n",
    "case.setAMRWindInput('xlo.density',  rhodensity)\n",
    "case.setAMRWindInput('xlo.velocity', [WS, 0.0, 0.0])"
   ]
  },
  {
   "cell_type": "code",
   "execution_count": 9,
   "metadata": {
    "deletable": true,
    "editable": true
   },
   "outputs": [],
   "source": [
    "# Add the turbine specifications flag\n",
    "## Note that the options field can have things like:\n",
    "##    ADparam_TwrAero:False ADparam_TwrShadow:0 FSTparam_TMax:181234.0\n",
    "## To specify changes to the OpenFAST model\n",
    "turbinescsv=\"\"\"\n",
    "# CSV file should have columns with\n",
    "# name, x, y, type, yaw, hubheight, options\n",
    "T0,     0, 0, NREL 2.8-127 ADM bugfix, 270.0, 0.0, ADparam_TwrAero:True ADparam_TwrShadow:0\n",
    "\"\"\"\n",
    "case.setAMRWindInput('turbines_csvtextbox',  turbinescsv)"
   ]
  },
  {
   "cell_type": "code",
   "execution_count": 10,
   "metadata": {
    "collapsed": false,
    "deletable": true,
    "editable": true,
    "jupyter": {
     "outputs_hidden": false
    }
   },
   "outputs": [],
   "source": [
    "case.setAMRWindInput('turbines_domainsize', [2560.0*2, 960.0*2, 960.0*2])\n",
    "case.setAMRWindInput('turbines_backgroundmeshsize', 20.0)\n",
    "case.setAMRWindInput('turbines_deleteprev', True)\n",
    "case.setAMRWindInput('turbines_freespace', True)   # Make this have no ground\n",
    "#case.setAMRWindInput('zlo_type', 'slip_wall')\n",
    "#case.setAMRWindInput('zhi_type', 'slip_wall')"
   ]
  },
  {
   "cell_type": "code",
   "execution_count": 11,
   "metadata": {
    "collapsed": false,
    "deletable": true,
    "editable": true,
    "jupyter": {
     "outputs_hidden": false
    }
   },
   "outputs": [
    {
     "data": {
      "image/png": "[encoded data removed]",
      "text/plain": [
       "<Figure size 750x750 with 1 Axes>"
      ]
     },
     "metadata": {},
     "output_type": "display_data"
    }
   ],
   "source": [
    "# Preview the turbine layout\n",
    "fig, ax = plt.subplots(figsize=(5,5), facecolor='w', dpi=150)\n",
    "case.turbines_previewAllTurbines(ax=ax)"
   ]
  },
  {
   "cell_type": "code",
   "execution_count": 12,
   "metadata": {
    "collapsed": false,
    "deletable": true,
    "editable": true,
    "jupyter": {
     "outputs_hidden": false
    }
   },
   "outputs": [
    {
     "name": "stdout",
     "output_type": "stream",
     "text": [
      "CANNOT update: ABLMeanBoussinesq use forcechange=True in setval()\n",
      "docopy = True from /projects/wind_uq/lcheung/amrwind-frontend/turbines/OpenFAST3p3_NREL2p8-127.bugfix to T0_OpenFAST3p3_NREL2p8-127.bugfix\n",
      "T0_OpenFAST3p3_NREL2p8-127.bugfix/NREL-2p8-127.fst\n",
      "OrderedDict([('TwrAero', 'True'), ('TwrShadow', 0)])\n",
      "['T0']\n"
     ]
    },
    {
     "name": "stderr",
     "output_type": "stream",
     "text": [
      "         0 TwrShadow - Calculate tower influence on wind based on downstream tower shadow (switch) {0=none 1=Powles model 2=Eames model} [EDITED]\n",
      "      True TwrAero - Calculate tower aerodynamic loads? (flag) [EDITED]\n"
     ]
    }
   ],
   "source": [
    "# Now create the turbines\n",
    "case.turbines_createAllTurbines()\n",
    "\n",
    "# Print out existing list of turbines, just to confirm that the turbines got made\n",
    "print(case.listboxpopupwindict['listboxactuator'].getitemlist())"
   ]
  },
  {
   "cell_type": "code",
   "execution_count": 13,
   "metadata": {
    "collapsed": false,
    "deletable": true,
    "editable": true,
    "jupyter": {
     "outputs_hidden": false
    }
   },
   "outputs": [],
   "source": [
    "# Set some globals\n",
    "case.setAMRWindInput('Actuator_default_type', ['TurbineFastDisk'])\n",
    "case.setAMRWindInput('Actuator_TurbineFastDisk_density',       rhodensity,      forcechange=True)\n",
    "case.setAMRWindInput('Actuator_TurbineFastDisk_epsilon',       [eps, eps, eps], forcechange=True)  # You can change this\n",
    "case.setAMRWindInput('Actuator_TurbineFastDisk_epsilon_tower', [eps, eps, eps], forcechange=True)  # You can change this"
   ]
  },
  {
   "cell_type": "markdown",
   "metadata": {
    "deletable": true,
    "editable": true
   },
   "source": [
    "## Add turbine refinement"
   ]
  },
  {
   "cell_type": "code",
   "execution_count": 14,
   "metadata": {
    "deletable": true,
    "editable": true
   },
   "outputs": [],
   "source": [
    "refinementcsv=\"\"\"\n",
    "# CSV file should have columns with\n",
    "# level, upstream, downstream, lateral, below, above, options\n",
    "level, upstream, downstream, lateral, below, above, options\n",
    "0,     10,       10,         3,       2,     2,     center:farm\n",
    "1,     2.5,      2.5,        2.5,     1.2,   1.2,   center:farm\n",
    "2,     1,        1,          0.75,    0.8,   0.8,  \n",
    "\"\"\"\n",
    "case.setAMRWindInput('refine_csvtextbox', refinementcsv)\n",
    "case.setAMRWindInput('refine_deleteprev', True)"
   ]
  },
  {
   "cell_type": "code",
   "execution_count": 15,
   "metadata": {
    "collapsed": false,
    "deletable": true,
    "editable": true,
    "jupyter": {
     "outputs_hidden": false
    }
   },
   "outputs": [
    {
     "name": "stdout",
     "output_type": "stream",
     "text": [
      "['Farm_level_0_zone', 'Farm_level_1_zone', 'T0_level_2_zone']\n"
     ]
    }
   ],
   "source": [
    "case.refine_createAllZones()\n",
    "# Print out existing list of turbines\n",
    "print(case.listboxpopupwindict['listboxtagging'].getitemlist())"
   ]
  },
  {
   "cell_type": "code",
   "execution_count": 16,
   "metadata": {
    "collapsed": false,
    "deletable": true,
    "editable": true,
    "jupyter": {
     "outputs_hidden": false
    }
   },
   "outputs": [
    {
     "data": {
      "image/png": "[encoded data removed]",
      "text/plain": [
       "<Figure size 625x625 with 1 Axes>"
      ]
     },
     "metadata": {},
     "output_type": "display_data"
    }
   ],
   "source": [
    "# Plot the domain\n",
    "fig, ax2 = plt.subplots(figsize=(5,5), facecolor='w', dpi=125)\n",
    "case.popup_storteddata['plotdomain']['plot_turbines']        = case.listboxpopupwindict['listboxactuator'].getitemlist()\n",
    "case.popup_storteddata['plotdomain']['plot_refineboxes']     = case.listboxpopupwindict['listboxtagging'].getitemlist()\n",
    "case.plotDomain(ax=ax2)"
   ]
  },
  {
   "cell_type": "code",
   "execution_count": 17,
   "metadata": {
    "collapsed": false,
    "deletable": true,
    "editable": true,
    "jupyter": {
     "outputs_hidden": false
    }
   },
   "outputs": [
    {
     "data": {
      "image/png": "[encoded data removed]",
      "text/plain": [
       "<Figure size 1000x750 with 1 Axes>"
      ]
     },
     "metadata": {},
     "output_type": "display_data"
    }
   ],
   "source": [
    "# Plot the domain\n",
    "fig, ax = plt.subplots(figsize=(8,6), facecolor='w', dpi=125)\n",
    "case.popup_storteddata['plotdomain']['plot_chooseview']      = 'YZ'\n",
    "case.popup_storteddata['plotdomain']['plot_refineboxes']     = case.listboxpopupwindict['listboxtagging'].getitemlist()\n",
    "case.popup_storteddata['plotdomain']['plot_sampleprobes']    = [] #case.listboxpopupwindict['listboxsampling'].getitemlist()\n",
    "case.popup_storteddata['plotdomain']['plot_turbines']        = case.listboxpopupwindict['listboxactuator'].getitemlist()\n",
    "case.plotDomain(ax=ax)"
   ]
  },
  {
   "cell_type": "code",
   "execution_count": 18,
   "metadata": {
    "collapsed": false,
    "deletable": true,
    "editable": true,
    "jupyter": {
     "outputs_hidden": false
    }
   },
   "outputs": [
    {
     "name": "stdout",
     "output_type": "stream",
     "text": [
      "Refinement Farm_level_0_zone: level 1: 983223 cells\n",
      "Refinement Farm_level_1_zone: level 2: 983223 cells\n",
      "Refinement T0_level_2_zone: level 3: 629263 cells\n",
      "ESTIMATED MESH SIZE\n",
      "   Level       Ncells                      Cell Size\n",
      "       0      2359296             20.0 x 20.0 x 20.0\n",
      "       1       983223             10.0 x 10.0 x 10.0\n",
      "       2       983223                5.0 x 5.0 x 5.0\n",
      "       3       629263                2.5 x 2.5 x 2.5\n",
      "  TOTAL:      4955005\n"
     ]
    }
   ],
   "source": [
    "case.estimateMeshSize()"
   ]
  },
  {
   "cell_type": "markdown",
   "metadata": {
    "deletable": true,
    "editable": true
   },
   "source": [
    "### Create sampling planes"
   ]
  },
  {
   "cell_type": "code",
   "execution_count": 19,
   "metadata": {
    "deletable": true,
    "editable": true
   },
   "outputs": [],
   "source": [
    "samplingcsv=\"\"\"\n",
    "# CSV file should have columns withturbinescsv=\n",
    "# name, type, upstream, downstream, lateral, below, above, n1, n2, options\n",
    "name, type, upstream, downstream, lateral, below, above, n1, n2, options\n",
    "#cl1, centerline, 1,  0, none, none,  none,  11, 11, none\n",
    "#rp1, rotorplane, 2,  0, none, none,  none,  11, 11, none\n",
    "#sw1, streamwise, 2,  1, 1, 0.5,  0.5,  11, 11, usedx:0.25 noffsets:1\n",
    "hh,  hubheight,2560,2560,960, 0,  none,  11, 11, usedx:10 units:meter center:farm orientation:x\n",
    "\"\"\"\n",
    "case.setAMRWindInput('sampling_csvtextbox', samplingcsv)\n",
    "case.setAMRWindInput('sampling_deleteprev', True)"
   ]
  },
  {
   "cell_type": "code",
   "execution_count": 20,
   "metadata": {
    "collapsed": false,
    "deletable": true,
    "editable": true,
    "jupyter": {
     "outputs_hidden": false
    }
   },
   "outputs": [
    {
     "name": "stdout",
     "output_type": "stream",
     "text": [
      "['Farm_hh']\n"
     ]
    }
   ],
   "source": [
    "case.sampling_createAllProbes(verbose=False)\n",
    "# Print out existing list of turbines\n",
    "print(case.listboxpopupwindict['listboxsampling'].getitemlist())"
   ]
  },
  {
   "cell_type": "code",
   "execution_count": 21,
   "metadata": {
    "collapsed": false,
    "deletable": true,
    "editable": true,
    "jupyter": {
     "outputs_hidden": false
    }
   },
   "outputs": [
    {
     "data": {
      "image/png": "[encoded data removed]",
      "text/plain": [
       "<Figure size 1000x750 with 1 Axes>"
      ]
     },
     "metadata": {},
     "output_type": "display_data"
    }
   ],
   "source": [
    "# Plot the domain\n",
    "fig, ax = plt.subplots(figsize=(8,6), facecolor='w', dpi=125)\n",
    "case.popup_storteddata['plotdomain']['plot_refineboxes']     = [] #case.listboxpopupwindict['listboxtagging'].getitemlist()\n",
    "case.popup_storteddata['plotdomain']['plot_sampleprobes']    = case.listboxpopupwindict['listboxsampling'].getitemlist()\n",
    "case.popup_storteddata['plotdomain']['plot_turbines']        = case.listboxpopupwindict['listboxactuator'].getitemlist()\n",
    "case.plotDomain(ax=ax)"
   ]
  },
  {
   "cell_type": "code",
   "execution_count": 22,
   "metadata": {
    "collapsed": false,
    "deletable": true,
    "editable": true,
    "jupyter": {
     "outputs_hidden": false
    }
   },
   "outputs": [
    {
     "name": "stdout",
     "output_type": "stream",
     "text": [
      "# --- Simulation time control parameters ---\n",
      "time.stop_time                           = 360.0               # Max (simulated) time to evolve [s]\n",
      "time.max_step                            = -1                  \n",
      "time.fixed_dt                            = 0.1                 # Fixed timestep size (in seconds). If negative, then time.cfl is used\n",
      "incflo.physics                           = FreeStream Actuator # List of physics models to include in simulation.\n",
      "incflo.verbose                           = 0                   \n",
      "io.check_file                            = chk                 \n",
      "incflo.use_godunov                       = true                \n",
      "incflo.godunov_type                      = weno_z              \n",
      "turbulence.model                         = Laminar             \n",
      "incflo.gravity                           = 0.0 0.0 -9.81       # Gravitational acceleration vector (x,y,z) [m/s^2]\n",
      "incflo.density                           = 1.225               # Fluid density [kg/m^3]\n",
      "transport.viscosity                      = 1.872e-05           # Fluid dynamic viscosity [kg/m-s]\n",
      "transport.laminar_prandtl                = 0.7                 # Laminar prandtl number\n",
      "transport.turbulent_prandtl              = 0.3333              # Turbulent prandtl number\n",
      "ConstValue.density.value                 = 1.225               \n",
      "ConstValue.velocity.value                = 11.0 0.0 0.0        \n",
      "\n",
      "# --- Geometry and Mesh ---\n",
      "geometry.prob_lo                         = -2560.0 -960.0 -960.0\n",
      "geometry.prob_hi                         = 2560.0 960.0 960.0  \n",
      "amr.n_cell                               = 256 96 96           # Number of cells in x, y, and z directions\n",
      "amr.max_level                            = 3                   \n",
      "geometry.is_periodic                     = 0 1 1               \n",
      "xlo.type                                 = mass_inflow         \n",
      "xlo.density                              = 1.225               \n",
      "xlo.velocity                             = 11.0 0.0 0.0        \n",
      "xhi.type                                 = pressure_outflow    \n",
      "\n",
      "# --- ABL parameters ---\n",
      "ICNS.source_terms                        = ActuatorForcing     \n",
      "incflo.velocity                          = 11.0 0.0 0.0        \n",
      "ABLForcing.abl_forcing_height            = 0.0                 \n",
      "time.plot_interval                       = 1000                \n",
      "io.plot_file                             = plt                 \n",
      "io.KE_int                                = -1                  \n",
      "Actuator.type                            = TurbineFastDisk     \n",
      "Actuator.TurbineFastDisk.epsilon         = 5.0 5.0 5.0         \n",
      "Actuator.TurbineFastDisk.epsilon_tower   = 5.0 5.0 5.0         \n",
      "Actuator.TurbineFastDisk.fllc            = false               \n",
      "Actuator.TurbineFastDisk.density         = 1.225               \n",
      "\n",
      "#---- tagging defs ----\n",
      "tagging.labels                           = Farm_level_0_zone Farm_level_1_zone T0_level_2_zone\n",
      "tagging.Farm_level_0_zone.type           = GeometryRefinement  \n",
      "tagging.Farm_level_0_zone.shapes         = Farm_level_0_zone   \n",
      "tagging.Farm_level_0_zone.level          = 0                   \n",
      "tagging.Farm_level_0_zone.Farm_level_0_zone.type = box                 \n",
      "tagging.Farm_level_0_zone.Farm_level_0_zone.origin = -1270.0 -381.0 -254.0\n",
      "tagging.Farm_level_0_zone.Farm_level_0_zone.xaxis = 2540.0 0.0 0.0      \n",
      "tagging.Farm_level_0_zone.Farm_level_0_zone.yaxis = -0.0 762.0 -0.0     \n",
      "tagging.Farm_level_0_zone.Farm_level_0_zone.zaxis = 0.0 0.0 508.0       \n",
      "tagging.Farm_level_1_zone.type           = GeometryRefinement  \n",
      "tagging.Farm_level_1_zone.shapes         = Farm_level_1_zone   \n",
      "tagging.Farm_level_1_zone.level          = 1                   \n",
      "tagging.Farm_level_1_zone.Farm_level_1_zone.type = box                 \n",
      "tagging.Farm_level_1_zone.Farm_level_1_zone.origin = -317.5 -317.5 -152.4\n",
      "tagging.Farm_level_1_zone.Farm_level_1_zone.xaxis = 635.0 0.0 0.0       \n",
      "tagging.Farm_level_1_zone.Farm_level_1_zone.yaxis = -0.0 635.0 -0.0     \n",
      "tagging.Farm_level_1_zone.Farm_level_1_zone.zaxis = 0.0 0.0 304.8       \n",
      "tagging.T0_level_2_zone.type             = GeometryRefinement  \n",
      "tagging.T0_level_2_zone.shapes           = T0_level_2_zone     \n",
      "tagging.T0_level_2_zone.level            = 2                   \n",
      "tagging.T0_level_2_zone.T0_level_2_zone.type = box                 \n",
      "tagging.T0_level_2_zone.T0_level_2_zone.origin = -127.0 -95.25 -101.60000000000001\n",
      "tagging.T0_level_2_zone.T0_level_2_zone.xaxis = 254.0 0.0 0.0       \n",
      "tagging.T0_level_2_zone.T0_level_2_zone.yaxis = -0.0 190.5 -0.0     \n",
      "tagging.T0_level_2_zone.T0_level_2_zone.zaxis = 0.0 0.0 203.20000000000002\n",
      "\n",
      "#---- actuator defs ----\n",
      "Actuator.labels                          = T0                  \n",
      "Actuator.T0.type                         = TurbineFastDisk     \n",
      "Actuator.T0.openfast_input_file          = T0_OpenFAST3p3_NREL2p8-127.bugfix/NREL-2p8-127.fst\n",
      "Actuator.T0.base_position                = 0.0 0.0 -90.0       \n",
      "Actuator.T0.rotor_diameter               = 127.0               \n",
      "Actuator.T0.hub_height                   = 90.0                \n",
      "Actuator.T0.num_points_blade             = 64                  \n",
      "Actuator.T0.num_points_tower             = 12                  \n",
      "Actuator.T0.openfast_start_time          = 0.0                 \n",
      "Actuator.T0.openfast_stop_time           = 1000.0              \n",
      "Actuator.T0.fllc                         = false               \n",
      "Actuator.T0.nacelle_drag_coeff           = 1.0                 \n",
      "Actuator.T0.nacelle_area                 = 8.0                 \n",
      "Actuator.T0.yaw                          = 270.0               \n",
      "Actuator.T0.output_frequency             = 10                  \n",
      "Actuator.T0.density                      = 1.225               \n",
      "Actuator.T0.num_blades                   = 3                   \n",
      "Actuator.T0.use_tip_correction           = true                \n",
      "Actuator.T0.use_root_correction          = true                \n",
      "\n",
      "#---- postprocessing defs ----\n",
      "incflo.post_processing                   = sampling            \n",
      "sampling.type                            = Sampling            \n",
      "sampling.output_frequency                = 100                 \n",
      "sampling.fields                          = velocity            \n",
      "\n",
      "#---- sample defs ----\n",
      "sampling.labels                          = Farm_hh             \n",
      "sampling.Farm_hh.type                    = PlaneSampler        \n",
      "sampling.Farm_hh.num_points              = 513 193             \n",
      "sampling.Farm_hh.origin                  = -2560.0 -960.0 0.0  \n",
      "sampling.Farm_hh.axis1                   = 5120.0 0.0 0.0      \n",
      "sampling.Farm_hh.axis2                   = 0.0 1920.0 0.0      \n",
      "sampling.Farm_hh.normal                  = 0.0 0.0 0.0         \n",
      "\n",
      "#---- extra params ----\n",
      "#== END AMR-WIND INPUT ==\n",
      "\n"
     ]
    }
   ],
   "source": [
    "print(case.writeAMRWindInput(''))"
   ]
  },
  {
   "cell_type": "code",
   "execution_count": 23,
   "metadata": {
    "collapsed": false,
    "deletable": true,
    "editable": true,
    "jupyter": {
     "outputs_hidden": false
    }
   },
   "outputs": [],
   "source": [
    "# Clean up the temporary directory\n",
    "docleanup = True\n",
    "os.chdir(curdir)\n",
    "if docleanup:\n",
    "    try:\n",
    "        shutil.rmtree(tempdir)\n",
    "    except:\n",
    "        print(\"Error cleaning up: \"+tempdir)"
   ]
  },
  {
   "cell_type": "markdown",
   "metadata": {
    "deletable": true,
    "editable": true
   },
   "source": [
    "## Set up a wind sweep"
   ]
  },
  {
   "cell_type": "code",
   "execution_count": 24,
   "metadata": {
    "deletable": true,
    "editable": true
   },
   "outputs": [],
   "source": [
    "# Set the parameters\n",
    "case.setAMRWindInput('sweep_windspeeds', '7 9 10 11')\n",
    "case.setAMRWindInput('sweep_winddirs',   '270')\n",
    "case.setAMRWindInput('sweep_caseprefix', 'Calibrate_dx2p5_{CASENUM}_EPS%0.2f_WS_{WS}'%eps)\n",
    "case.setAMRWindInput('sweep_dirprefix',  'Calibrate_dx2p5_{CASENUM}_EPS%0.2f_WS_{WS}'%eps)\n",
    "case.setAMRWindInput('sweep_usenewdirs', True)\n",
    "case.setAMRWindInput('sweep_logfile',    'RunCalibration_dx2.5_Eps%0.2f_logfile.yaml'%eps)"
   ]
  },
  {
   "cell_type": "code",
   "execution_count": 25,
   "metadata": {
    "deletable": true,
    "editable": true
   },
   "outputs": [],
   "source": [
    "# Submission parameters\n",
    "case.popup_storteddata['submitscript']['submitscript_numnodes'] = 8\n",
    "case.popup_storteddata['submitscript']['submitscript_runtime']  = '4:00:00'\n",
    "case.popup_storteddata['submitscript']['submitscript_wcid']     = 'fy210193'\n",
    "case.popup_storteddata['submitscript']['submitscript_partition']= 'batch,short'\n",
    "case.popup_storteddata['submitscript']['submitscript_corespernode'] = 16\n",
    "case.popup_storteddata['submitscript']['submitscript_queue']    = 'normal'\n",
    "case.popup_storteddata['submitscript']['submitscript_jobname']  = 'GE2p8'\n",
    "case.popup_storteddata['submitscript']['submitscript_exe']      = '/projects/wind_uq/lcheung/AMRWindBuilds/hfm.20240102/amr-wind/build/amr_wind'\n",
    "\n",
    "case.setAMRWindInput('sweep_createsubmitscript', True)\n",
    "case.setAMRWindInput('sweep_submitjob',          False)"
   ]
  },
  {
   "cell_type": "code",
   "execution_count": 26,
   "metadata": {
    "collapsed": false,
    "deletable": true,
    "editable": true,
    "jupyter": {
     "outputs_hidden": false
    }
   },
   "outputs": [
    {
     "name": "stdout",
     "output_type": "stream",
     "text": [
      "       NUM           WS         WDir            Case name\n",
      "       ---           --         ----            ---------\n",
      "         0      7.00000    270.00000 Calibrate_dx2p5_0_EPS5.00_WS_7.0\n",
      "docopy = True from /projects/wind_uq/lcheung/amrwind-frontend/turbines/OpenFAST3p3_NREL2p8-127.bugfix to T0_OpenFAST3p3_NREL2p8-127.bugfix\n",
      "T0_OpenFAST3p3_NREL2p8-127.bugfix/NREL-2p8-127.fst\n",
      "OrderedDict([('TwrAero', 'True'), ('TwrShadow', 0)])\n"
     ]
    },
    {
     "name": "stderr",
     "output_type": "stream",
     "text": [
      "         0 TwrShadow - Calculate tower influence on wind based on downstream tower shadow (switch) {0=none 1=Powles model 2=Eames model} [EDITED]\n",
      "      True TwrAero - Calculate tower aerodynamic loads? (flag) [EDITED]\n"
     ]
    },
    {
     "name": "stdout",
     "output_type": "stream",
     "text": [
      "Saved Calibrate_dx2p5_0_EPS5.00_WS_7.0.sh\n",
      "         1      9.00000    270.00000 Calibrate_dx2p5_1_EPS5.00_WS_9.0\n",
      "docopy = True from /projects/wind_uq/lcheung/amrwind-frontend/turbines/OpenFAST3p3_NREL2p8-127.bugfix to T0_OpenFAST3p3_NREL2p8-127.bugfix\n",
      "T0_OpenFAST3p3_NREL2p8-127.bugfix/NREL-2p8-127.fst\n",
      "OrderedDict([('TwrAero', 'True'), ('TwrShadow', 0)])\n"
     ]
    },
    {
     "name": "stderr",
     "output_type": "stream",
     "text": [
      "         0 TwrShadow - Calculate tower influence on wind based on downstream tower shadow (switch) {0=none 1=Powles model 2=Eames model} [EDITED]\n",
      "      True TwrAero - Calculate tower aerodynamic loads? (flag) [EDITED]\n"
     ]
    },
    {
     "name": "stdout",
     "output_type": "stream",
     "text": [
      "Saved Calibrate_dx2p5_1_EPS5.00_WS_9.0.sh\n",
      "         2     10.00000    270.00000 Calibrate_dx2p5_2_EPS5.00_WS_10.0\n",
      "docopy = True from /projects/wind_uq/lcheung/amrwind-frontend/turbines/OpenFAST3p3_NREL2p8-127.bugfix to T0_OpenFAST3p3_NREL2p8-127.bugfix\n",
      "T0_OpenFAST3p3_NREL2p8-127.bugfix/NREL-2p8-127.fst\n",
      "OrderedDict([('TwrAero', 'True'), ('TwrShadow', 0)])\n"
     ]
    },
    {
     "name": "stderr",
     "output_type": "stream",
     "text": [
      "         0 TwrShadow - Calculate tower influence on wind based on downstream tower shadow (switch) {0=none 1=Powles model 2=Eames model} [EDITED]\n",
      "      True TwrAero - Calculate tower aerodynamic loads? (flag) [EDITED]\n"
     ]
    },
    {
     "name": "stdout",
     "output_type": "stream",
     "text": [
      "Saved Calibrate_dx2p5_2_EPS5.00_WS_10.0.sh\n",
      "         3     11.00000    270.00000 Calibrate_dx2p5_3_EPS5.00_WS_11.0\n",
      "docopy = True from /projects/wind_uq/lcheung/amrwind-frontend/turbines/OpenFAST3p3_NREL2p8-127.bugfix to T0_OpenFAST3p3_NREL2p8-127.bugfix\n",
      "T0_OpenFAST3p3_NREL2p8-127.bugfix/NREL-2p8-127.fst\n",
      "OrderedDict([('TwrAero', 'True'), ('TwrShadow', 0)])\n"
     ]
    },
    {
     "name": "stderr",
     "output_type": "stream",
     "text": [
      "         0 TwrShadow - Calculate tower influence on wind based on downstream tower shadow (switch) {0=none 1=Powles model 2=Eames model} [EDITED]\n",
      "      True TwrAero - Calculate tower aerodynamic loads? (flag) [EDITED]\n"
     ]
    },
    {
     "name": "stdout",
     "output_type": "stream",
     "text": [
      "Saved Calibrate_dx2p5_3_EPS5.00_WS_11.0.sh\n"
     ]
    }
   ],
   "source": [
    "# Set up the cases\n",
    "case.sweep_SetupRunParamSweep(verbose=True)"
   ]
  },
  {
   "cell_type": "markdown",
   "metadata": {
    "deletable": true,
    "editable": true
   },
   "source": [
    "### Save the calibration"
   ]
  },
  {
   "cell_type": "code",
   "execution_count": 27,
   "metadata": {
    "collapsed": false,
    "deletable": true,
    "editable": true,
    "jupyter": {
     "outputs_hidden": false
    }
   },
   "outputs": [
    {
     "name": "stdout",
     "output_type": "stream",
     "text": [
      "Saved farm setup to TurbineCalibrateGE2p8_dx2.5_Eps5.00.yaml\n"
     ]
    }
   ],
   "source": [
    "# Save the wind farm setup\n",
    "case.setAMRWindInput('farm_usercomments', 'Test calibration process.')\n",
    "case.writeFarmSetupYAML('TurbineCalibrateGE2p8_dx2.5_Eps%0.2f.yaml'%eps)"
   ]
  }
 ],
 "metadata": {
  "kernelspec": {
   "display_name": "Python 3 (ipykernel)",
   "language": "python",
   "name": "python3"
  },
  "language_info": {
   "codemirror_mode": {
    "name": "ipython",
    "version": 3
   },
   "file_extension": ".py",
   "mimetype": "text/x-python",
   "name": "python",
   "nbconvert_exporter": "python",
   "pygments_lexer": "ipython3",
   "version": "3.11.5"
  }
 },
 "nbformat": 4,
 "nbformat_minor": 4
}
