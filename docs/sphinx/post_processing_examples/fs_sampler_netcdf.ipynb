{
 "cells": [
  {
   "cell_type": "markdown",
   "metadata": {},
   "source": [
    "# NetCDF format: dam break example\n",
    "\n",
    "This example plots the evolution of the liquid-gas interface as a liquid column collapses and flows into the rest of the domain, and it also shows the velocity magnitude as a function of interface position.\n",
    "\n",
    "Samplers that do not have moving sample locations also do not have the \"points\" field in the NetCDF dataset. For static samplers, the locations are provided solely through the variable \"coordinates\". Otherwise, the data accesses in this example can be applied to other sampler types.\n",
    "\n",
    "To generate the data required to replicate this example, run the simulation contained in test/test_files/dam_break_godunov with the sampling format set to \"netcdf\" (AMR-Wind must also be compiled with NetCDF)."
   ]
  },
  {
   "cell_type": "code",
   "execution_count": 11,
   "metadata": {},
   "outputs": [],
   "source": [
    "import numpy as np\n",
    "import netCDF4 as ncdf\n",
    "import matplotlib.pyplot as plt\n",
    "\n",
    "plt.rc('text',usetex=True)\n",
    "plt.rc('font',family='serif')\n",
    "\n",
    "loc_dir = \"dam_break\"\n",
    "pp_dir = loc_dir + \"/post_processing\"\n",
    "\n",
    "nt = 10 + 1\n",
    "out_int = 20"
   ]
  },
  {
   "cell_type": "code",
   "execution_count": null,
   "metadata": {},
   "outputs": [],
   "source": [
    "class SamplingFile(object):\n",
    "    \"\"\"Interface to Sampling NetCDF file\"\"\"\n",
    "\n",
    "    def __init__(self, sampling_file = \"sampling.nc\", group_name = \"s1\"):\n",
    "        \"\"\"\n",
    "        Args:\n",
    "            stats_file (path): Absolute path to the NetCDF file\n",
    "        \"\"\"\n",
    "        self.sampling_file = sampling_file\n",
    "        self.sampling = ncdf.Dataset(self.sampling_file)\n",
    "        self.fs = self.sampling[\"/\"+group_name]\n",
    "        self._points = self.fs.variables[\"points\"][:,:,:]\n",
    "        self._velocityx = self.fs.variables[\"velocityx\"][:,:]\n",
    "        self._velocityy = self.fs.variables[\"velocityy\"][:,:]\n",
    "        self._velocityz = self.fs.variables[\"velocityz\"][:,:]\n",
    "\n",
    "    @property\n",
    "    def locations(self):\n",
    "        return self._points\n",
    "\n",
    "    @property\n",
    "    def vmag(self):\n",
    "        return np.sqrt(self._velocityx**2+self._velocityy**2+self._velocityz**2)"
   ]
  },
  {
   "cell_type": "code",
   "execution_count": null,
   "metadata": {},
   "outputs": [],
   "source": [
    "plt.figure()\n",
    "base_color = 0.8\n",
    "\n",
    "sampl = SamplingFile(sampling_file=pp_dir+\"/sampling00000.nc\", \\\n",
    "                    group_name = \"fs\")\n",
    "\n",
    "for n in range(nt):\n",
    "    x_oo=sampl.locations[n,:,:]\n",
    "    Vmag_oo = sampl.vmag[n,:]\n",
    "\n",
    "    # Reorder arrays\n",
    "    ind_0 = np.argsort(x_oo[:,0]) \n",
    "    x = np.zeros(np.shape(x_oo)[0])\n",
    "    z = np.zeros(np.shape(x_oo)[0])\n",
    "    Vmag = np.zeros(np.shape(x_oo)[0])\n",
    "    flag = np.zeros(np.shape(x_oo)[0])\n",
    "    for i in range(0, len(ind_0)): \n",
    "        x[i]= x_oo[ind_0[i],0]\n",
    "        z[i]= x_oo[ind_0[i],2]\n",
    "        Vmag[i] = Vmag_oo[ind_0[i]]\n",
    "        # When interface is not present, z location is set to 0\n",
    "        flag[i] = 1.0 if z[i] > 1e-8 else 0.\n",
    "    # Shorten arrays (exclude points where interface not detected)\n",
    "    nvalid = int(flag.sum())\n",
    "    xshort = x[0:nvalid]\n",
    "    zshort = z[0:nvalid]\n",
    "    vshort = Vmag[0:nvalid]\n",
    "\n",
    "    color = base_color - (base_color) * (n/nt)\n",
    "    cstr = str(color)\n",
    "\n",
    "    plt.plot(xshort,zshort,color=cstr)\n",
    "    plt.scatter(xshort,zshort,c=vshort,cmap=\"jet\",vmin=0.,vmax=2.5)\n",
    "\n",
    "plt.ylabel(r'$z$',fontsize=16)\n",
    "plt.xlabel(r'$x$',fontsize=16)\n",
    "plt.colorbar()\n",
    "plt.show()\n",
    "\n",
    "# Line color gets darker with time\n",
    "# Points colored with sampled velocity magnitude"
   ]
  }
 ],
 "metadata": {
  "kernelspec": {
   "display_name": "Python 3 (ipykernel)",
   "language": "python",
   "name": "python3"
  },
  "language_info": {
   "codemirror_mode": {
    "name": "ipython",
    "version": 3
   },
   "file_extension": ".py",
   "mimetype": "text/x-python",
   "name": "python",
   "nbconvert_exporter": "python",
   "pygments_lexer": "ipython3",
   "version": "3.9.16"
  }
 },
 "nbformat": 4,
 "nbformat_minor": 2
}
