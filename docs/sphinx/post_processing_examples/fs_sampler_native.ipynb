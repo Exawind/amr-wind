{
 "cells": [
  {
   "cell_type": "markdown",
   "metadata": {},
   "source": [
    "# Native format: dam break example\n",
    "\n",
    "This example plots the evolution of the liquid-gas interface as a liquid column collapses and flows into the rest of the domain, and it also shows the velocity magnitude as a function of interface position.\n",
    "\n",
    "Note that the data accesses in this example can be applied to other sampler types because the format is identical.\n",
    "\n",
    "To generate the data required to replicate this example, run the simulation contained in test/test_files/dam_break_godunov with the sampling format set to \"native\"."
   ]
  },
  {
   "cell_type": "code",
   "execution_count": 11,
   "metadata": {},
   "outputs": [],
   "source": [
    "import numpy as np\n",
    "import matplotlib.pyplot as plt\n",
    "import sys\n",
    "sys.path.append('../../../tools/')\n",
    "import amrex_particle\n",
    "from amrex_particle import AmrexParticleFile\n",
    "\n",
    "plt.rc('text',usetex=True)\n",
    "plt.rc('font',family='serif')\n",
    "\n",
    "loc_dir = \"dam_break\"\n",
    "pp_dir = loc_dir + \"/post_processing\"\n",
    "\n",
    "pfile = AmrexParticleFile(loc_dir)\n",
    "\n",
    "nt = 10 + 1\n",
    "out_int = 20"
   ]
  },
  {
   "cell_type": "code",
   "execution_count": null,
   "metadata": {},
   "outputs": [],
   "source": [
    "plt.figure()\n",
    "base_color = 0.8\n",
    "\n",
    "for n in range(nt):\n",
    "    pt = pfile.load(n * out_int, root_dir = pp_dir)\n",
    "    pt.parse_header()\n",
    "    pt.load_binary_data()\n",
    "    data = pt.df\n",
    "    x_oo = data.xco\n",
    "    z_oo = data.zco\n",
    "    u_oo = data.velocityx\n",
    "    v_oo = data.velocityy\n",
    "    w_oo = data.velocityz\n",
    "    # Reorder arrays\n",
    "    ind_0 = np.argsort(x_oo) \n",
    "    x = np.zeros(np.shape(x_oo))\n",
    "    z = np.zeros(np.shape(x_oo))\n",
    "    Vmag = np.zeros(np.shape(x_oo))\n",
    "    flag = np.zeros(np.shape(x_oo))\n",
    "    for i in range(0, len(ind_0)): \n",
    "        x[i]= x_oo[ind_0[i]]\n",
    "        z[i]= z_oo[ind_0[i]]\n",
    "        Vmag[i] = np.sqrt(u_oo[ind_0[i]]**2+v_oo[ind_0[i]]**2+w_oo[ind_0[i]]**2)\n",
    "        # When interface is not present, z location is set to zlo\n",
    "        flag[i] = 1.0 if z[i] > 1e-8 else 0.\n",
    "    # Shorten arrays (exclude points where interface not detected)\n",
    "    nvalid = int(flag.sum())\n",
    "    xshort = x[0:nvalid]\n",
    "    zshort = z[0:nvalid]\n",
    "    vshort = Vmag[0:nvalid]\n",
    "\n",
    "    color = base_color - (base_color) * (n/nt)\n",
    "    cstr = str(color)\n",
    "\n",
    "    plt.plot(xshort,zshort,color=cstr)\n",
    "    plt.scatter(xshort,zshort,c=vshort,cmap=\"jet\",vmin=0.,vmax=2.5)\n",
    "\n",
    "plt.ylabel(r'$z$',fontsize=16)\n",
    "plt.xlabel(r'$x$',fontsize=16)\n",
    "plt.colorbar()\n",
    "plt.show()\n",
    "\n",
    "# Line color gets darker with time\n",
    "# Points colored with sampled velocity magnitude"
   ]
  }
 ],
 "metadata": {
  "kernelspec": {
   "display_name": "Python 3 (ipykernel)",
   "language": "python",
   "name": "python3"
  },
  "language_info": {
   "codemirror_mode": {
    "name": "ipython",
    "version": 3
   },
   "file_extension": ".py",
   "mimetype": "text/x-python",
   "name": "python",
   "nbconvert_exporter": "python",
   "pygments_lexer": "ipython3",
   "version": "3.9.16"
  }
 },
 "nbformat": 4,
 "nbformat_minor": 2
}
