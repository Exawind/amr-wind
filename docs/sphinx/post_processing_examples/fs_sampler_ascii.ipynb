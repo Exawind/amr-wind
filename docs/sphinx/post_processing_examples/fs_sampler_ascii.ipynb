{
 "cells": [
  {
   "cell_type": "markdown",
   "metadata": {},
   "source": [
    "# ASCII format: dam break example"
   ]
  },
  {
   "cell_type": "code",
   "execution_count": 11,
   "metadata": {},
   "outputs": [],
   "source": [
    "import numpy as np\n",
    "import matplotlib.pyplot as plt\n",
    "\n",
    "plt.rc('text',usetex=True)\n",
    "plt.rc('font',family='serif')\n",
    "\n",
    "loc_dir = \"dam_break\"\n",
    "pp_dir = loc_dir + \"/post_processing\"\n",
    "\n",
    "nt = 10 + 1\n",
    "out_int = 20"
   ]
  },
  {
   "cell_type": "code",
   "execution_count": null,
   "metadata": {},
   "outputs": [],
   "source": [
    "plt.figure()\n",
    "base_color = 0.8\n",
    "\n",
    "for n in range(nt):\n",
    "    x_oo=np.genfromtxt(pp_dir+\"/sampling\"+str(n*out_int).zfill(5)+\".txt\",delimiter=' ',skip_header=5)\n",
    "    # Reorder array\n",
    "    ind_0 = np.argsort(x_oo[:,0]) \n",
    "    x = np.zeros(np.shape(x_oo))\n",
    "    flag = np.zeros(np.shape(x_oo)[0])\n",
    "    for i in range(0, len(ind_0)): \n",
    "        x[i,:]= x_oo[ind_0[i],:]\n",
    "        # When interface is not present, z location is set to zlo\n",
    "        flag[i] = 1.0 if x[i,2] > 1e-8 else 0.\n",
    "  \n",
    "    # Shorten arrays (exclude points where interface not detected)\n",
    "    nvalid = int(flag.sum())\n",
    "    # Columns are position (3), id, cpu, ints of struct (uid, sid, nid), field components\n",
    "    xshort = x[0:nvalid,0]\n",
    "    zshort = x[0:nvalid,2]\n",
    "    vshort = np.sqrt(x[0:nvalid,8]**2+x[0:nvalid,9]**2+x[0:nvalid,10]**2)\n",
    "\n",
    "    color = base_color - (base_color) * (n/nt)\n",
    "    cstr = str(color)\n",
    "\n",
    "    plt.plot(xshort,zshort,color=cstr)\n",
    "    plt.scatter(xshort,zshort,c=vshort,cmap=\"jet\",vmin=0.,vmax=2.5)\n",
    "\n",
    "plt.ylabel(r'$z$',fontsize=16)\n",
    "plt.xlabel(r'$x$',fontsize=16)\n",
    "plt.colorbar()\n",
    "plt.show()\n",
    "\n",
    "# Line color gets darker with time\n",
    "# Points colored with sampled velocity magnitude"
   ]
  }
 ],
 "metadata": {
  "kernelspec": {
   "display_name": "Python 3 (ipykernel)",
   "language": "python",
   "name": "python3"
  },
  "language_info": {
   "codemirror_mode": {
    "name": "ipython",
    "version": 3
   },
   "file_extension": ".py",
   "mimetype": "text/x-python",
   "name": "python",
   "nbconvert_exporter": "python",
   "pygments_lexer": "ipython3",
   "version": "3.9.16"
  }
 },
 "nbformat": 4,
 "nbformat_minor": 2
}
